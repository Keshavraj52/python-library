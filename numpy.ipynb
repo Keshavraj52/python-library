{
 "cells": [
  {
   "cell_type": "code",
   "execution_count": 2,
   "id": "1fe7fc17-a276-425c-94bd-7a56c9f1ac46",
   "metadata": {},
   "outputs": [
    {
     "name": "stdout",
     "output_type": "stream",
     "text": [
      "[[[1 2 3 4]\n",
      "  [1 2 3 4]\n",
      "  [1 2 3 4]]\n",
      "\n",
      " [[1 2 3 4]\n",
      "  [1 2 3 4]\n",
      "  [1 2 3 4]]]\n",
      "3\n"
     ]
    }
   ],
   "source": [
    "import numpy as np\n",
    "a=[[[1,2,3,4],[1,2,3,4],[1,2,3,4]],[[1,2,3,4],[1,2,3,4],[1,2,3,4]]]\n",
    "y=np.array(a)\n",
    "print(y)\n",
    "print(y.ndim)"
   ]
  },
  {
   "cell_type": "code",
   "execution_count": 8,
   "id": "65c9271b-5169-4648-b2c1-274ae2e2d8b7",
   "metadata": {},
   "outputs": [
    {
     "name": "stdout",
     "output_type": "stream",
     "text": [
      "861 ns ± 15 ns per loop (mean ± std. dev. of 7 runs, 1,000,000 loops each)\n"
     ]
    }
   ],
   "source": [
    "%timeit [j**4 for j in range(1,9)]\n"
   ]
  },
  {
   "cell_type": "code",
   "execution_count": 19,
   "id": "534d1d0f-1b8c-4946-8d9e-50e82f96cb71",
   "metadata": {},
   "outputs": [
    {
     "name": "stdin",
     "output_type": "stream",
     "text": [
      "enter: 534\n",
      "enter: 22\n",
      "enter: 552\n",
      "enter: 222\n"
     ]
    },
    {
     "name": "stdout",
     "output_type": "stream",
     "text": [
      "[534  22 552 222]\n",
      "<class 'list'>\n"
     ]
    }
   ],
   "source": [
    "l=[]\n",
    "for i in range(1,5):\n",
    "    in_1=int(input(\"enter:\"))\n",
    "    l.append(in_1)\n",
    "\n",
    "print(np.array(l))\n",
    "print(type(l))\n"
   ]
  },
  {
   "cell_type": "code",
   "execution_count": 15,
   "id": "c17a7c45-795c-4dce-85ff-6d81bb0441e6",
   "metadata": {},
   "outputs": [
    {
     "name": "stdout",
     "output_type": "stream",
     "text": [
      "['25' '45' '34' '45']\n"
     ]
    }
   ],
   "source": [
    "print(np.array(l))"
   ]
  },
  {
   "cell_type": "code",
   "execution_count": 24,
   "id": "c1728148-5f50-42a9-bb82-85951babe31b",
   "metadata": {},
   "outputs": [
    {
     "name": "stdout",
     "output_type": "stream",
     "text": [
      "[[[[[[[[[[1 2 3 4]]]]]]]]]]\n",
      "10\n"
     ]
    }
   ],
   "source": [
    "arn= np.array([1,2,3,4],ndmin=10)\n",
    "print(arn)\n",
    "print(arn.ndim)"
   ]
  },
  {
   "cell_type": "code",
   "execution_count": 25,
   "id": "453fcb13-3adc-4289-bbfe-c52618ed5277",
   "metadata": {},
   "outputs": [
    {
     "name": "stdout",
     "output_type": "stream",
     "text": [
      "[[0. 0. 0.]\n",
      " [0. 0. 0.]\n",
      " [0. 0. 0.]\n",
      " [0. 0. 0.]]\n"
     ]
    }
   ],
   "source": [
    "zeros=np.zeros((4,3))\n",
    "print(zeros)"
   ]
  },
  {
   "cell_type": "code",
   "execution_count": 28,
   "id": "d8acd548-5faa-4398-b511-cb079b7815b1",
   "metadata": {},
   "outputs": [
    {
     "name": "stdout",
     "output_type": "stream",
     "text": [
      "[[1. 1. 1. 1. 1.]\n",
      " [1. 1. 1. 1. 1.]\n",
      " [1. 1. 1. 1. 1.]\n",
      " [1. 1. 1. 1. 1.]]\n"
     ]
    }
   ],
   "source": [
    "arrone=np.ones((4,5))\n",
    "print(arrone)"
   ]
  },
  {
   "cell_type": "code",
   "execution_count": 33,
   "id": "b661bf98-ddea-40e2-9f6d-84758d135b5d",
   "metadata": {},
   "outputs": [
    {
     "name": "stdout",
     "output_type": "stream",
     "text": [
      "[[1. 0. 0. 0.]\n",
      " [0. 1. 0. 0.]\n",
      " [0. 0. 1. 0.]\n",
      " [0. 0. 0. 1.]]\n"
     ]
    }
   ],
   "source": [
    "arri=np.eye(4)\n",
    "print(arri)"
   ]
  },
  {
   "cell_type": "code",
   "execution_count": 38,
   "id": "b1447f2a-7428-403b-b1a5-3164a4dd4ad3",
   "metadata": {},
   "outputs": [
    {
     "name": "stdout",
     "output_type": "stream",
     "text": [
      "[ 0.  4.  8. 12. 16.]\n"
     ]
    }
   ],
   "source": [
    "kesh=np.linspace(0,16,num=5)\n",
    "print(kesh)\n"
   ]
  },
  {
   "cell_type": "code",
   "execution_count": 16,
   "id": "f55716fb-25f7-4360-82f1-ba8b4fc831db",
   "metadata": {},
   "outputs": [
    {
     "name": "stdout",
     "output_type": "stream",
     "text": [
      "3\n",
      "[[[[[1 2 2 5]\n",
      "    [1 2 3 4]]]]]\n"
     ]
    }
   ],
   "source": [
    "var=np.array([[[1,2,3,4]]])\n",
    "print(var.ndim)\n",
    "var2=np.array([[[1,2,2,5],[1,2,3,4]]],ndmin=5)\n",
    "print(var2)"
   ]
  },
  {
   "cell_type": "markdown",
   "id": "ebf19002-1f02-4357-8f73-6ed8f1833ed6",
   "metadata": {},
   "source": [
    "#speatial type of array"
   ]
  },
  {
   "cell_type": "code",
   "execution_count": 19,
   "id": "2476a1ff-b4a3-41a9-a603-d716580f563f",
   "metadata": {},
   "outputs": [
    {
     "name": "stdout",
     "output_type": "stream",
     "text": [
      "[[1. 0. 0. 0. 0.]\n",
      " [0. 1. 0. 0. 0.]\n",
      " [0. 0. 1. 0. 0.]\n",
      " [0. 0. 0. 1. 0.]\n",
      " [0. 0. 0. 0. 1.]]\n",
      "[0. 0. 0.] [1. 1. 1. 1.] [1. 1. 1. 1.]\n"
     ]
    }
   ],
   "source": [
    "var=np.zeros(3)\n",
    "va=np.empty(4)\n",
    "vat=np.ones(4)\n",
    "x=np.eye(5)\n",
    "print(x)\n",
    "print(var,va,vat)"
   ]
  },
  {
   "cell_type": "code",
   "execution_count": 33,
   "id": "c6dbf71a-760f-4d23-a4a1-31e808d7da48",
   "metadata": {},
   "outputs": [
    {
     "name": "stdout",
     "output_type": "stream",
     "text": [
      "[ 1.   3.2  5.4  7.6  9.8 12. ]\n"
     ]
    }
   ],
   "source": [
    "var=np.linspace(1,12,num=6)\n",
    "print(var)"
   ]
  },
  {
   "cell_type": "code",
   "execution_count": 49,
   "id": "7e05ea0d-ff15-4e5c-b1c2-004568c93e55",
   "metadata": {},
   "outputs": [
    {
     "name": "stdout",
     "output_type": "stream",
     "text": [
      "[0.38336104 0.32997832 0.8280411  0.09878266 0.22440877]\n",
      "[ 0.30504461  1.78524723 -0.55656746  0.13347833 -0.48605787]\n",
      "[0.93660484 0.95062994 0.20439256 0.74907544 0.19562463]\n",
      "[106 338 110  44 215 106 412 278 227 359 298 421 312 446 252 280 247  52\n",
      " 137 409  56 255  79 322 102 311 155 170 408 419 327  31  41 325 293 167\n",
      " 228 412 201 196  58 269  44  40 415]\n"
     ]
    }
   ],
   "source": [
    "x=np.random.rand(5)\n",
    "print(x)\n",
    "y=np.random.randn(5)\n",
    "print(y)\n",
    "z=np.random.ranf(5)\n",
    "print(z)\n",
    "w=np.random.randint(0,454,45)\n",
    "print(w)"
   ]
  },
  {
   "cell_type": "code",
   "execution_count": 57,
   "id": "d5013850-5569-4389-8274-655962c8f278",
   "metadata": {},
   "outputs": [
    {
     "name": "stdout",
     "output_type": "stream",
     "text": [
      "datatype float64\n",
      "[  12  453  454 5454]\n",
      "[  12  453  454 5454]\n"
     ]
    }
   ],
   "source": [
    "x=np.array([12.25,453,454,5454])\n",
    "print(\"datatype\",x.dtype)\n",
    "y=np.int64(x)\n",
    "print(y)\n",
    "v=x.astype(int)\n",
    "print(v)"
   ]
  },
  {
   "cell_type": "code",
   "execution_count": 67,
   "id": "a5b654b3-be22-48b6-98fb-cd81208fb6e9",
   "metadata": {},
   "outputs": [
    {
     "name": "stdout",
     "output_type": "stream",
     "text": [
      "[[[[[[[[[[ 1 23  4  5]]]]]]]]]]\n",
      "[ 1 23  4  5]\n"
     ]
    }
   ],
   "source": [
    "b=np.array([1,23,4,5],ndmin=10)\n",
    "print(b)\n",
    "one=b.reshape(-1)\n",
    "print(one)"
   ]
  },
  {
   "cell_type": "code",
   "execution_count": 75,
   "id": "4a966fcf-e98c-46fa-bd5b-f2f6a034c4dc",
   "metadata": {},
   "outputs": [
    {
     "name": "stdout",
     "output_type": "stream",
     "text": [
      "[ 1 23  4  5  1 23 44  5]\n",
      "1\n",
      "44\n",
      "0\n",
      "[1.         4.79583152 2.         2.23606798 1.         4.79583152\n",
      " 6.63324958 2.23606798]\n",
      "[ 0.84147098 -0.8462204  -0.7568025  -0.95892427  0.84147098 -0.8462204\n",
      "  0.01770193 -0.95892427]\n"
     ]
    }
   ],
   "source": [
    "bc=np.array([1,23,4,5,1,23,44,5])\n",
    "print(bc)\n",
    "print(np.min(bc))\n",
    "print(np.max(bc))\n",
    "print(np.argmin(bc))\n",
    "print(np.sqrt(bc))\n",
    "print(np.sin(bc))\n"
   ]
  },
  {
   "cell_type": "code",
   "execution_count": 77,
   "id": "5ab090d3-a302-40e0-be4a-b7dd4f3d4987",
   "metadata": {},
   "outputs": [
    {
     "name": "stdout",
     "output_type": "stream",
     "text": [
      "4\n",
      "23\n",
      "4\n"
     ]
    }
   ],
   "source": [
    "fh=np.array([[1,23,4,5,1,23,44,5],[1,23,4,5,1,23,44,5]])\n",
    "print(fh[0,2])\n",
    "print(fh[1,5])\n",
    "print(fh[0,2])\n"
   ]
  },
  {
   "cell_type": "code",
   "execution_count": 81,
   "id": "e786cd62-3289-49cc-a2cd-f9f358936a91",
   "metadata": {},
   "outputs": [
    {
     "name": "stdout",
     "output_type": "stream",
     "text": [
      "[ 4  1 44]\n",
      "[23 44]\n"
     ]
    }
   ],
   "source": [
    "fh=np.array([[1,23,4,5,1,23,44,5],[1,23,4,5,1,23,44,5]])\n",
    "c=fh[0,5:7]\n",
    "d=fh[0,2:7:2]\n",
    "print(d)\n",
    "print(c)"
   ]
  },
  {
   "cell_type": "code",
   "execution_count": null,
   "id": "e71b193f-c7b1-48ff-8301-6c3f34d3cdc6",
   "metadata": {},
   "outputs": [],
   "source": []
  }
 ],
 "metadata": {
  "kernelspec": {
   "display_name": "Python 3 (ipykernel)",
   "language": "python",
   "name": "python3"
  },
  "language_info": {
   "codemirror_mode": {
    "name": "ipython",
    "version": 3
   },
   "file_extension": ".py",
   "mimetype": "text/x-python",
   "name": "python",
   "nbconvert_exporter": "python",
   "pygments_lexer": "ipython3",
   "version": "3.12.2"
  }
 },
 "nbformat": 4,
 "nbformat_minor": 5
}
